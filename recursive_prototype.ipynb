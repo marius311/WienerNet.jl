{
 "cells": [
  {
   "cell_type": "code",
   "execution_count": 1,
   "metadata": {},
   "outputs": [],
   "source": [
    "using Flux"
   ]
  },
  {
   "cell_type": "code",
   "execution_count": null,
   "metadata": {},
   "outputs": [],
   "source": []
  },
  {
   "cell_type": "code",
   "execution_count": 2,
   "metadata": {},
   "outputs": [
    {
     "data": {
      "text/plain": [
       "tuplecat3 (generic function with 2 methods)"
      ]
     },
     "execution_count": 2,
     "metadata": {},
     "output_type": "execute_result"
    }
   ],
   "source": [
    "begin\n",
    "\ttuple_identity(a) = identity(a)\n",
    "\ttuple_identity(a...) = tuple(a...)\n",
    "\tcat3(a,b) = cat(a,b;dims=3)\n",
    "\ttuplecat3(a::Tuple{AbstractArray,AbstractArray},b::Tuple{AbstractArray,AbstractArray}) = (cat3(a[1],b[1]), cat3(a[2],b[2]))\n",
    "\t\n",
    "\ttuplecat3(a::Tuple{Int64,Int64},b::Tuple{Int64,Int64}) = a .+ b\n",
    "end"
   ]
  },
  {
   "cell_type": "code",
   "execution_count": 3,
   "metadata": {},
   "outputs": [
    {
     "data": {
      "text/plain": [
       "QuadSemiLinearConv (generic function with 1 method)"
      ]
     },
     "execution_count": 3,
     "metadata": {},
     "output_type": "execute_result"
    }
   ],
   "source": [
    "begin\n",
    "\tfunction QuadSemiLinear((lin,nonlin)::Tuple{AbstractArray,AbstractArray})\n",
    "\n",
    "\t\tnl = size(lin,3)\n",
    "\t\tnnl = size(nonlin,3)\n",
    "\t\tlayers = [selectdim(lin,3,i:i) .* selectdim(nonlin,3,j:j) for i in 1:nl for j in 1:nnl]\n",
    "\t\tfor k in 1:nl\n",
    "\t\t\tpush!(layers,selectdim(lin,3,k:k))\n",
    "\t\tend\n",
    "\t\treturn (reduce(cat3, layers), nonlin)\n",
    "\tend\n",
    "\n",
    "\tQuadSemiLinear(lin::AbstractArray,nonlin::AbstractArray) = QuadSemiLinear((lin,nonlin))\n",
    "\tQuadSemiLinear(a::Int64,b::Int64) = (a*b+a, b)\n",
    "\t\n",
    "\tfunction QuadSemiLinearConv(input_features, channels_out)\n",
    "\t\tqsl_features = QuadSemiLinear(input_features...)\n",
    "\t\tChain(QuadSemiLinear, Parallel(tuple, Conv((1,1), qsl_features[1]=>channels_out; stride=1, pad=SamePad()), identity))\n",
    "\tend\n",
    "\n",
    "end"
   ]
  },
  {
   "cell_type": "code",
   "execution_count": 4,
   "metadata": {},
   "outputs": [
    {
     "data": {
      "text/plain": [
       "(10, 20)"
      ]
     },
     "execution_count": 4,
     "metadata": {},
     "output_type": "execute_result"
    }
   ],
   "source": [
    "begin\n",
    "\t\n",
    "\n",
    "\t\n",
    "\tfunction WNBB_dims(passthrough_dims; Nfeatures=10)\n",
    "\t\tpassthrough_features = passthrough_dims((Nfeatures, Nfeatures))\n",
    "\t\tskip_features = b -> tuplecat3(passthrough_features, (Nfeatures, b))\n",
    "\t\treturn ((a,b),) -> (Nfeatures, skip_features(b)[2])\n",
    "\tend\n",
    "\t\t\n",
    "\tfunction WienerNetBaseBlock(input_features, passthrough, passthrough_dims; Nfeatures=10)\n",
    "\t\t## a function (linear,nonlinear) -> (linear,nonlinear) \n",
    "\t\t## that encodes the basic building block of WienerNet\n",
    "\t\t\n",
    "\t\t## input features is (a,b)\n",
    "\t\t## QSL maps (a,b) to (a*(b+1), b)\n",
    "\t\t## Skip connection maps (a,b) to (2*a, 2*b) \n",
    "\t\t##\n",
    "\t\t## MAKE QSL(int,int) and passthrough(int,int) return the features!!\n",
    "\t\t\n",
    "\t\tpassthrough_features = passthrough_dims((Nfeatures, Nfeatures))\n",
    "\t\tskip_features = tuplecat3(passthrough_features, (Nfeatures, input_features[2]))\n",
    "\t\t\n",
    "\t\tChain(\n",
    "\t\t\n",
    "\t\tQuadSemiLinearConv(input_features, Nfeatures),\n",
    "\t\t\t\n",
    "\t\tSkipConnection(\n",
    "\t\t\tChain(\n",
    "\t\t\t\tParallel(\n",
    "\t\t\t\t\ttuple,\n",
    "\t\t\t\t\tConv((5,5), Nfeatures=>Nfeatures, stride=2, pad=SamePad()),\n",
    "\t\t\t\t\tConv((5,5), input_features[2]=>Nfeatures, relu; stride=2, pad=SamePad()),\n",
    "\t\t\t\t\t),\n",
    "\t\t\t\tpassthrough, \n",
    "\t\t\t\tParallel(\n",
    "\t\t\t\t\ttuple,\n",
    "\t\t\t\t\tConvTranspose((5,5), passthrough_features[1]=>Nfeatures, stride=2, pad=SamePad()),\n",
    "\t\t\t\t\tConvTranspose((5,5), passthrough_features[2]=>Nfeatures, relu; stride=2, pad=SamePad()),\n",
    "\t\t\t\t\t)\n",
    "\t\t\t\t),\n",
    "\t\t\ttuplecat3),\n",
    "\t\t\t\n",
    "\t\tQuadSemiLinearConv(skip_features, Nfeatures)\n",
    "\t\n",
    "\t\t)\n",
    "\tend\n",
    "\t\n",
    "\t#WienerNetBaseBlock((1,1), WienerNetBaseBlock((1,1), identity, identity), WNBB_dims(identity); Nfeatures=1)\n",
    "\tinner = WienerNetBaseBlock((10,10), identity, identity)\n",
    " \tinnerdims = WNBB_dims(identity)\n",
    "\touter = WienerNetBaseBlock((1,1), inner, innerdims)\n",
    "\tinnerdims((10,10))\n",
    "\t#outer((rand10(),rand10()))\n",
    "end"
   ]
  },
  {
   "cell_type": "code",
   "execution_count": null,
   "metadata": {},
   "outputs": [],
   "source": []
  }
 ],
 "metadata": {
  "kernelspec": {
   "display_name": "Julia 1.6.1",
   "language": "julia",
   "name": "julia-1.6"
  },
  "language_info": {
   "file_extension": ".jl",
   "mimetype": "application/julia",
   "name": "julia",
   "version": "1.6.1"
  }
 },
 "nbformat": 4,
 "nbformat_minor": 2
}
