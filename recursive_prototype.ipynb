{
 "cells": [
  {
   "cell_type": "code",
   "execution_count": 2,
   "metadata": {},
   "outputs": [],
   "source": [
    "using Flux, CUDA, Adapt, CMBLensing, PyPlot, LinearAlgebra, ProgressMeter, Setfield"
   ]
  },
  {
   "cell_type": "code",
   "execution_count": 3,
   "metadata": {},
   "outputs": [
    {
     "data": {
      "text/plain": [
       "false"
      ]
     },
     "execution_count": 3,
     "metadata": {},
     "output_type": "execute_result"
    }
   ],
   "source": [
    "Flux.use_cuda[] = false"
   ]
  },
  {
   "cell_type": "code",
   "execution_count": 4,
   "metadata": {},
   "outputs": [],
   "source": [
    "storage = Flux.use_cuda[] ? CuArray : Array;"
   ]
  },
  {
   "cell_type": "code",
   "execution_count": 5,
   "metadata": {},
   "outputs": [],
   "source": [
    "@unpack f, n, ϕ, ds = load_sim(; storage, Nside=64, θpix=2, pol=:I, μKarcminT=150, seed=0, bandpass_mask=LowPass(3000));\n",
    "fwf = argmaxf_lnP(I, (;), @set(ds.Cf=ds.Cf̃));\n"
   ]
  },
  {
   "cell_type": "code",
   "execution_count": 6,
   "metadata": {},
   "outputs": [
    {
     "data": {
      "text/plain": [
       "64×64×1×1 Array{Float64,4}:\n",
       "[:, :, 1, 1] =\n",
       " 1.0  1.0  1.0  1.0  1.0  1.0  1.0  1.0  …  1.0  1.0  1.0  1.0  1.0  1.0  1.0\n",
       " 1.0  1.0  1.0  1.0  1.0  1.0  1.0  1.0     1.0  1.0  1.0  1.0  1.0  1.0  1.0\n",
       " 1.0  1.0  1.0  1.0  1.0  1.0  1.0  1.0     1.0  1.0  1.0  1.0  1.0  1.0  1.0\n",
       " 1.0  1.0  1.0  1.0  1.0  1.0  1.0  1.0     1.0  1.0  1.0  1.0  1.0  1.0  1.0\n",
       " 1.0  1.0  1.0  1.0  1.0  1.0  1.0  1.0     1.0  1.0  1.0  1.0  1.0  1.0  1.0\n",
       " 1.0  1.0  1.0  1.0  1.0  1.0  1.0  1.0  …  1.0  1.0  1.0  1.0  1.0  1.0  1.0\n",
       " 1.0  1.0  1.0  1.0  1.0  1.0  1.0  1.0     1.0  1.0  1.0  1.0  1.0  1.0  1.0\n",
       " 1.0  1.0  1.0  1.0  1.0  1.0  1.0  1.0     1.0  1.0  1.0  1.0  1.0  1.0  1.0\n",
       " 1.0  1.0  1.0  1.0  1.0  1.0  1.0  1.0     1.0  1.0  1.0  1.0  1.0  1.0  1.0\n",
       " 1.0  1.0  1.0  1.0  1.0  1.0  1.0  1.0     1.0  1.0  1.0  1.0  1.0  1.0  1.0\n",
       " 1.0  1.0  1.0  1.0  1.0  1.0  1.0  1.0  …  1.0  1.0  1.0  1.0  1.0  1.0  1.0\n",
       " 1.0  1.0  1.0  1.0  1.0  1.0  1.0  1.0     1.0  1.0  1.0  1.0  1.0  1.0  1.0\n",
       " 1.0  1.0  1.0  1.0  1.0  1.0  1.0  1.0     1.0  1.0  1.0  1.0  1.0  1.0  1.0\n",
       " ⋮                        ⋮              ⋱                 ⋮              \n",
       " 1.0  1.0  1.0  1.0  1.0  1.0  1.0  1.0     1.0  1.0  1.0  1.0  1.0  1.0  1.0\n",
       " 1.0  1.0  1.0  1.0  1.0  1.0  1.0  1.0     1.0  1.0  1.0  1.0  1.0  1.0  1.0\n",
       " 1.0  1.0  1.0  1.0  1.0  1.0  1.0  1.0     1.0  1.0  1.0  1.0  1.0  1.0  1.0\n",
       " 1.0  1.0  1.0  1.0  1.0  1.0  1.0  1.0  …  1.0  1.0  1.0  1.0  1.0  1.0  1.0\n",
       " 1.0  1.0  1.0  1.0  1.0  1.0  1.0  1.0     1.0  1.0  1.0  1.0  1.0  1.0  1.0\n",
       " 1.0  1.0  1.0  1.0  1.0  1.0  1.0  1.0     1.0  1.0  1.0  1.0  1.0  1.0  1.0\n",
       " 1.0  1.0  1.0  1.0  1.0  1.0  1.0  1.0     1.0  1.0  1.0  1.0  1.0  1.0  1.0\n",
       " 1.0  1.0  1.0  1.0  1.0  1.0  1.0  1.0     1.0  1.0  1.0  1.0  1.0  1.0  1.0\n",
       " 1.0  1.0  1.0  1.0  1.0  1.0  1.0  1.0  …  1.0  1.0  1.0  1.0  1.0  1.0  1.0\n",
       " 1.0  1.0  1.0  1.0  1.0  1.0  1.0  1.0     1.0  1.0  1.0  1.0  1.0  1.0  1.0\n",
       " 1.0  1.0  1.0  1.0  1.0  1.0  1.0  1.0     1.0  1.0  1.0  1.0  1.0  1.0  1.0\n",
       " 1.0  1.0  1.0  1.0  1.0  1.0  1.0  1.0     1.0  1.0  1.0  1.0  1.0  1.0  1.0"
      ]
     },
     "execution_count": 6,
     "metadata": {},
     "output_type": "execute_result"
    }
   ],
   "source": [
    "M = Diagonal(adapt(storage, make_mask(f, edge_padding_deg=0.2, apodization_deg=0.2, edge_rounding_deg=0.1, num_ptsrcs=0)))\n",
    "noM = ones((64,64,1,1))"
   ]
  },
  {
   "cell_type": "code",
   "execution_count": 7,
   "metadata": {},
   "outputs": [
    {
     "ename": "LoadError",
     "evalue": "\u001b[91mUndefVarError: out not defined\u001b[39m",
     "output_type": "error",
     "traceback": [
      "\u001b[91mUndefVarError: out not defined\u001b[39m",
      "",
      "Stacktrace:",
      " [1] top-level scope at In[7]:1",
      " [2] include_string(::Function, ::Module, ::String, ::String) at ./loading.jl:1091"
     ]
    }
   ],
   "source": [
    "plot(\n",
    "    [\n",
    "        f   ds.d;\n",
    "        fwf out\n",
    "    ],\n",
    "    title=[\"truth\" \"data\"; \"WF\" \"NN\"]\n",
    ")"
   ]
  },
  {
   "cell_type": "code",
   "execution_count": 27,
   "metadata": {},
   "outputs": [
    {
     "data": {
      "text/plain": [
       "WNBB_dims (generic function with 1 method)"
      ]
     },
     "execution_count": 27,
     "metadata": {},
     "output_type": "execute_result"
    }
   ],
   "source": [
    "begin\n",
    "\ttuple_identity(a) = identity(a)\n",
    "\ttuple_identity(a...) = tuple(a...)\n",
    "\tcat3(a,b) = cat(a,b;dims=3)\n",
    "    \n",
    "\tfunction tuplecat3(a::Tuple{AbstractArray,AbstractArray},b::Tuple{AbstractArray,AbstractArray}) \n",
    "       # println(size(a[1]),size(a[2]), size(b[1]), size(b[2]))\n",
    "        (cat3(a[1],b[1]), cat3(a[2],b[2]))\n",
    "    end\n",
    "    \n",
    "    \n",
    "    #deprecated\n",
    "\ttuplecat3(a::Tuple{Int64,Int64},b::Tuple{Int64,Int64}) = a .+ b\n",
    "    \n",
    "    #both deprecated? see comment in WNBB\n",
    "\tidentity_dims(a...;b...) = tuple(a...)\n",
    "\tWNBB_dims(a,b;Nfeatures=10) = (Nfeatures, Nfeatures + b)\n",
    "end"
   ]
  },
  {
   "cell_type": "code",
   "execution_count": 8,
   "metadata": {},
   "outputs": [
    {
     "data": {
      "text/plain": [
       "QuadSemiLinearConv (generic function with 1 method)"
      ]
     },
     "execution_count": 8,
     "metadata": {},
     "output_type": "execute_result"
    }
   ],
   "source": [
    "begin\n",
    "\tfunction QuadSemiLinear((lin,nonlin)::Tuple{AbstractArray,AbstractArray})\n",
    "    #this might be super duper slow?\n",
    "\t\tnl = size(lin,3)\n",
    "\t\tnnl = size(nonlin,3)\n",
    "\t\tlayers = [selectdim(lin,3,i:i) .* selectdim(nonlin,3,j:j) for i in 1:nl for j in 1:nnl]\n",
    "\t\tfor k in 1:nl\n",
    "\t\t\tpush!(layers,selectdim(lin,3,k:k))\n",
    "\t\tend\n",
    "\t\t#println(size(reduce(cat3, layers)))\n",
    "\t\treturn (reduce(cat3, layers), nonlin)\n",
    "\tend\n",
    "\n",
    "\tQuadSemiLinear(lin::AbstractArray,nonlin::AbstractArray) = QuadSemiLinear((lin,nonlin))\n",
    "\tQuadSemiLinear(a::Int64,b::Int64) = (a*b+a, b)\n",
    "\t\n",
    "\tfunction QuadSemiLinearConv(input_features, channels_out)\n",
    "\t\ta,b = input_features\n",
    "\t\tChain(QuadSemiLinear, Parallel(tuple, Conv((1,1), a*(b+1)=>channels_out; stride=1, pad=SamePad()), identity))\n",
    "\tend\n",
    "\n",
    "\t\t\n",
    "\t\n",
    "end"
   ]
  },
  {
   "cell_type": "code",
   "execution_count": 36,
   "metadata": {},
   "outputs": [
    {
     "data": {
      "text/plain": [
       "WienerNetBaseBlock (generic function with 1 method)"
      ]
     },
     "execution_count": 36,
     "metadata": {},
     "output_type": "execute_result"
    }
   ],
   "source": [
    "begin\n",
    "    function printdims(x::Tuple)\n",
    "        println(size(x[1]), size(x[2]))\n",
    "        return x\n",
    "    end\n",
    "\tfunction WienerNetBaseBlock(input_features, inner, inner_dims; Nfeatures=10)\n",
    "\t\t## a function (linear,nonlinear) -> (linear,nonlinear) \n",
    "\t\t## that encodes the basic building block of WienerNet\n",
    "\n",
    "        # replace with simple boolean inner ? (Nf,Nf) : (Nf,2Nf)\n",
    "\t\tinner_features = inner_dims(Nfeatures, Nfeatures; Nfeatures)\n",
    "\t\tskip_features = (2Nfeatures, Nfeatures+input_features[2])\n",
    "\t\tChain(\n",
    "\t\tQuadSemiLinearConv(input_features, Nfeatures),\n",
    "\t\tSkipConnection(\n",
    "\t\t\tChain(\n",
    "\t\t\t\tParallel(\n",
    "\t\t\t\t\ttuple,\n",
    "\t\t\t\t\tConv((5,5), Nfeatures=>Nfeatures, stride=2, pad=SamePad()),\n",
    "\t\t\t\t\tConv((5,5), input_features[2]=>Nfeatures, relu; stride=2, pad=SamePad()),\n",
    "\t\t\t\t\t),\n",
    "\t\t\t\tinner, \n",
    "     #           printdims,\n",
    "\t\t\t\tParallel(\n",
    "\t\t\t\t\ttuple,\n",
    "\t\t\t\t\tConvTranspose((5,5), inner_features[1]=>Nfeatures, stride=2, pad=SamePad()),\n",
    "\t\t\t\t\tConvTranspose((5,5), inner_features[2]=>Nfeatures, relu; stride=2, pad=SamePad()),\n",
    "\t\t\t\t\t)\n",
    "\t\t\t\t),\n",
    "\t\t\ttuplecat3),\n",
    "\t\tQuadSemiLinearConv(skip_features, Nfeatures)\n",
    "\t\t)\n",
    "\tend\n",
    "end"
   ]
  },
  {
   "cell_type": "code",
   "execution_count": 37,
   "metadata": {},
   "outputs": [
    {
     "data": {
      "text/plain": [
       "model (generic function with 3 methods)"
      ]
     },
     "execution_count": 37,
     "metadata": {},
     "output_type": "execute_result"
    }
   ],
   "source": [
    "begin\n",
    "\twn = WienerNetBaseBlock((10,10), identity, identity_dims)\n",
    "\twn = WienerNetBaseBlock((10,10), wn, WNBB_dims)\n",
    "\twn = WienerNetBaseBlock((10,10), wn, WNBB_dims)\n",
    "\twn = WienerNetBaseBlock((10,10), wn, WNBB_dims)\n",
    "\t#wn = WienerNetBaseBlock((10,10), wn, WNBB_dims)\n",
    "\t#wn = WienerNetBaseBlock((10,10), wn, WNBB_dims)\n",
    "\n",
    "    \n",
    "    # feed input, extract output\n",
    "\twn = Chain(Parallel(tuple,\n",
    "\t\t\tConv((5,5), 1=>10; stride=1, pad=SamePad()),\n",
    "\t\t\tConv((5,5), 1=>10; stride=1, pad=SamePad())),\n",
    "\t\t\twn,\n",
    "\t\t\t((a,b),) -> a, \n",
    "\t\t\tConvTranspose((5,5), 10=>1; stride=1, pad=SamePad())\n",
    "\t\t)\n",
    "    wn = Flux.gpu(wn)\n",
    "    model(x::Tuple{AbstractArray,AbstractArray}) = wn((Float32.(x[1]), Float32.(x[2])))\n",
    "    model(x::AbstractArray) = wn((Float32.(x), ones(Float32, size(x))[:,:,:,:]))\n",
    "    model(f::Field) = FlatMap(wn((Float32.(f[:Ix][:,:,:,:]), ones(Float32, size(f[:Ix]))[:,:,:,:]))[:,:,1,1], f.metadata)\n",
    "\t\n",
    "end"
   ]
  },
  {
   "cell_type": "code",
   "execution_count": 45,
   "metadata": {},
   "outputs": [
    {
     "name": "stderr",
     "output_type": "stream",
     "text": [
      "\u001b[32mProgress: 100%|█████████████████████████████████████████| Time: 0:00:00\u001b[39m\n"
     ]
    },
    {
     "data": {
      "text/plain": [
       "64×64×1×32 Array{Float32,4}:\n",
       "[:, :, 1, 1] =\n",
       " -114.325   -133.283   -112.567   …  -60.0696   -72.2448   -88.2172\n",
       " -136.253   -156.256   -135.743      -60.2187   -75.9614  -103.807\n",
       " -155.978   -168.841   -145.228      -62.2614   -90.1259  -124.279\n",
       " -161.221   -158.409   -126.532      -81.115   -113.824   -142.364\n",
       " -145.668   -131.606   -100.408      -97.2308  -126.182   -145.121\n",
       " -113.981    -95.7973   -76.3937  …  -99.1034  -119.624   -127.006\n",
       "  -74.4627   -57.7003   -46.9492     -88.0686   -96.6816   -92.9989\n",
       "  -34.8396   -25.6915   -24.4402     -63.1055   -64.3068   -52.9458\n",
       "  -15.8612   -19.4428   -22.3309     -36.7432   -33.1188   -23.7276\n",
       "  -26.2305   -33.0071   -33.794      -27.4685   -23.271    -22.2903\n",
       "  -58.3228   -61.4232   -51.2888  …  -42.3977   -40.8758   -48.688\n",
       "  -82.3751   -80.9962   -64.7224     -69.6759   -65.4487   -73.5722\n",
       "  -83.327    -82.6999   -72.0186     -78.0084   -72.9888   -77.4508\n",
       "    ⋮                             ⋱                       \n",
       "  -78.2451   -75.0951   -74.8023     -83.2742   -80.9772   -82.7601\n",
       "  -89.5434   -83.5279   -84.9737     -84.9238   -93.5869   -97.9261\n",
       "  -98.9673   -96.1884   -98.4186     -82.4322   -95.1401  -101.628\n",
       " -101.954   -112.19    -112.025   …  -80.2301   -86.6035   -95.3887\n",
       "  -97.7889  -118.956   -120.373      -72.7779   -72.3902   -81.2079\n",
       " -100.553   -114.316   -111.157      -65.2422   -67.4199   -81.9317\n",
       " -114.309   -108.346    -98.6888     -57.7103   -72.8861   -97.5394\n",
       " -128.46    -108.987    -96.1235     -49.1772   -81.0548  -115.719\n",
       " -139.892   -112.31     -96.5917  …  -39.2547   -82.0994  -125.282\n",
       " -134.84    -112.825    -91.4875     -36.2319   -81.3643  -123.795\n",
       " -122.056   -111.603    -87.5902     -42.5239   -81.3431  -113.195\n",
       " -108.726   -116.626    -94.0962     -50.1226   -75.1074   -93.6\n",
       "\n",
       "[:, :, 1, 2] =\n",
       "  57.3451    56.8789    47.4043   …   83.0589      74.7102    61.6792\n",
       "  56.0155    64.0495    61.3709       71.4277      64.9849    56.3146\n",
       "  61.7025    66.5973    65.8411       51.0037      53.5023    56.1414\n",
       "  50.9107    51.2917    56.9082       26.9404      34.9989    47.6367\n",
       "  29.3456    31.9179    45.0661        4.01043     12.0991    27.3542\n",
       "  13.9356    11.109     21.2775   …   -7.81589      4.38053   17.4205\n",
       "   3.20893   -9.18613   -8.0075        1.33231     11.6051    13.6493\n",
       " -11.7572   -28.8708   -37.6883        0.70974      1.10305   -1.45077\n",
       " -25.131    -45.145    -61.2289      -18.7095     -19.9757   -19.1634\n",
       " -38.8925   -61.0944   -81.7879      -40.1211     -37.9751   -33.733\n",
       " -58.0737   -77.8833   -92.4332   …  -58.263      -55.2736   -52.5097\n",
       " -81.6616   -85.217    -83.966       -68.9437     -69.9965   -76.543\n",
       " -97.049    -86.3076   -68.8416      -74.2054     -80.723    -94.314\n",
       "   ⋮                              ⋱                          \n",
       " -70.3266   -43.6365   -12.3915      -51.0092     -78.9152   -87.3523\n",
       " -45.9942   -28.411     -4.05284     -21.7805     -37.0875   -49.2756\n",
       "  -2.54683   -1.91284    6.31046      -0.0581044    5.94909    0.449218\n",
       "  40.5803    33.8572    22.0424   …   15.3228      34.002     41.9435\n",
       "  62.8504    62.545     48.1234       32.4942      48.2418    58.4018\n",
       "  66.1285    70.1235    58.7989       52.9133      58.1949    61.2088\n",
       "  61.1199    57.7049    45.7295       68.7809      66.6139    61.9399\n",
       "  54.4606    40.9815    25.183        73.7499      70.5459    62.7291\n",
       "  45.0783    28.6346    12.0946   …   67.1639      68.9599    59.2632\n",
       "  42.6652    28.4601    13.9288       66.7869      71.7869    58.5432\n",
       "  52.4776    39.7627    24.4168       78.1477      80.8765    65.6922\n",
       "  60.8038    51.7124    36.088        85.9578      83.3305    68.8777\n",
       "\n",
       "[:, :, 1, 3] =\n",
       " -29.713    -35.0738   -30.4973   …  -31.9238   -24.4187   -20.2735\n",
       " -32.898    -36.1105   -36.4987      -58.9451   -44.8868   -31.9833\n",
       " -21.8958   -27.6518   -33.1103      -77.3564   -55.8863   -30.6342\n",
       " -13.1552   -17.8512   -18.2142      -83.4068   -55.1863   -26.5103\n",
       " -16.033    -10.6887     1.59032     -82.8796   -56.6473   -30.7751\n",
       " -31.6347   -11.0719    13.698    …  -88.162    -72.1012   -50.8322\n",
       " -49.512    -21.0792    12.846       -86.3623   -76.6879   -66.5084\n",
       " -50.9593   -27.5549     1.7213      -66.1019   -60.5149   -59.8343\n",
       " -29.9474   -20.2313    -9.73256     -37.9654   -29.3353   -30.5755\n",
       "   9.44438    6.35625   -2.83109      -9.52528    5.04949   10.8911\n",
       "  34.506     31.8897    18.3395   …   17.6511    26.4274    32.8275\n",
       "  38.4454    41.3126    35.49         48.4462    41.3874    36.2354\n",
       "  46.336     54.5391    52.0469       63.1972    45.9489    36.5044\n",
       "   ⋮                              ⋱                        \n",
       "  42.932     20.4767    -6.48878      16.3316    32.9684    46.7352\n",
       "  31.1633    19.5979     3.19677       8.62354   22.8608    33.2417\n",
       "  24.3873    19.1461    13.9566        6.09363   21.3355    29.6817\n",
       "  45.1146    37.7538    30.3869   …   10.7901    34.3751    48.2052\n",
       "  80.5438    73.7232    59.4152       28.5554    59.3514    79.1408\n",
       " 116.218    105.305     85.9922       51.897     86.0163   111.905\n",
       " 134.548    123.998    100.196        69.3832   100.677    128.193\n",
       " 126.278    118.487     93.1124       72.0551    97.4695   119.778\n",
       "  97.2365    87.2005    63.2518   …   58.5881    78.9816    95.1093\n",
       "  53.9551    42.6401    28.6713       37.8087    51.9361    61.55\n",
       "  17.1981     7.22516    4.80927      15.3335    21.9772    27.2247\n",
       " -10.2519   -17.7746   -14.3893       -7.8675    -3.67325    1.02083\n",
       "\n",
       "...\n",
       "\n",
       "[:, :, 1, 30] =\n",
       "  -74.8075   -80.1936    -79.2703   …   -55.12     -59.8002   -66.8579\n",
       "  -47.9087   -57.3813    -50.3094       -31.447    -30.0763   -36.3376\n",
       "  -37.6678   -43.575     -26.7292       -28.8113   -25.2697   -28.4127\n",
       "  -43.2056   -41.6502    -11.3431       -41.5322   -37.3119   -36.478\n",
       "  -50.5614   -41.9749     -4.24267      -53.663    -47.942    -45.5521\n",
       "  -41.5309   -29.9166      4.26312  …   -51.2241   -42.5023   -39.7811\n",
       "  -16.711     -6.28894    24.548        -27.5885   -16.5522   -14.0088\n",
       "   10.7422    18.4687     49.5576        13.4994    17.8614    15.5111\n",
       "   41.8337    45.3381     70.1925        58.0138    52.703     45.075\n",
       "   81.1503    80.3098     82.4963        97.1853    88.0796    79.115\n",
       "  123.814    120.717     106.978    …   126.823    124.566    120.113\n",
       "  160.973    158.448     140.906        139.527    146.752    152.777\n",
       "  192.209    194.452     178.187        132.159    155.07     176.968\n",
       "    ⋮                               ⋱                        \n",
       " -240.931   -208.586    -184.617       -238.779   -256.946   -262.326\n",
       " -258.925   -221.477    -195.533       -257.607   -276.021   -279.598\n",
       " -260.803   -227.443    -193.543       -250.156   -268.746   -275.067\n",
       " -244.448   -215.65     -181.174    …  -223.056   -241.439   -251.822\n",
       " -224.555   -198.509    -168.251       -212.202   -226.141   -234.263\n",
       " -220.257   -190.867    -160.402       -221.255   -235.32    -238.533\n",
       " -232.088   -196.534    -160.07        -225.923   -246.349   -251.381\n",
       " -243.503   -206.396    -158.863       -219.924   -244.786   -255.044\n",
       " -238.728   -200.748    -150.878    …  -213.111   -236.532   -248.105\n",
       " -211.969   -177.24     -133.271       -191.089   -212.73    -223.693\n",
       " -163.609   -141.852    -116.121       -145.532   -161.366   -171.757\n",
       " -115.04    -108.734    -100.856        -96.8124  -107.552   -117.75\n",
       "\n",
       "[:, :, 1, 31] =\n",
       " 100.218       97.825     88.0775    …   62.4322    80.2768   94.0527\n",
       "  76.0033      94.8611   110.758         54.3122    60.9426   65.6206\n",
       "  63.2018      95.2897   128.87          47.3173    48.2168   48.6605\n",
       "  71.7775     106.657    142.446         41.5111    48.1886   55.4186\n",
       "  83.7749     111.252    145.591         37.933     54.7965   69.5123\n",
       "  86.9117     105.993    140.329     …   48.4628    62.9009   77.1824\n",
       " 100.991      112.792    137.323         72.2957    81.479    92.2028\n",
       " 124.15       127.517    136.558         99.8113   110.601   119.416\n",
       " 142.147      131.583    129.795        121.118    136.394   143.999\n",
       " 137.172      120.629    114.425        135.231    147.644   150.034\n",
       " 112.384       95.0972    86.1309    …  133.357    136.586   130.405\n",
       "  82.1171      64.5191    54.7861       118.881    113.193    99.9659\n",
       "  58.3304      40.5198    31.7013       101.098     92.5481   76.5861\n",
       "   ⋮                                 ⋱                       \n",
       "   0.0123798  -11.3528   -11.69          -6.30072   22.0932   20.6719\n",
       "  21.6657       7.67219    0.163895      12.3928    37.4703   39.1909\n",
       "  27.4668       4.76213   -7.72931       31.6914    47.5484   47.7723\n",
       "   9.61515    -17.9255   -25.0424    …   52.1427    53.7052   38.3161\n",
       " -19.3479     -48.3782   -46.7187        76.6847    59.9032   22.2365\n",
       " -36.2881     -67.6286   -63.6481        93.7136    66.1631   14.5559\n",
       " -26.5888     -67.9801   -66.799         95.7037    74.7784   29.7774\n",
       "   6.12655    -38.978    -43.9303        93.3404    89.5046   61.2914\n",
       "  45.3168       9.41855   -5.76265   …   84.4475    96.9736   86.4957\n",
       "  78.3339      43.9358    18.6156        71.6307    99.9429  104.786\n",
       " 103.206       66.9309    32.1581        68.1252   103.144   118.059\n",
       " 112.336       89.0614    56.0279        68.007     97.2342  116.038\n",
       "\n",
       "[:, :, 1, 32] =\n",
       "  27.1858    62.6749    83.319     …  -45.1406    -39.7462   -12.3054\n",
       "  60.6334    86.3575    94.8534        -0.305489    2.35375   26.5319\n",
       " 107.575    114.927    113.657         71.2138     75.081     86.5656\n",
       " 160.015    152.463    142.074        137.435     144.955    155.014\n",
       " 200.79     181.866    161.057        177.046     188.859    200.765\n",
       " 220.54     197.86     169.941     …  210.91      214.251    223.658\n",
       " 231.633    211.308    181.169        245.206     228.55     232.325\n",
       " 228.965    214.751    193.696        265.102     233.008    228.761\n",
       " 222.812    210.141    199.338        267.053     235.035    226.221\n",
       " 220.919    205.757    197.785        262.903     242.559    232.545\n",
       " 232.945    210.545    198.014     …  261.924     257.003    250.038\n",
       " 260.863    237.576    216.518        262.969     270.496    272.112\n",
       " 289.17     276.73     251.283        260.711     273.596    284.603\n",
       "   ⋮                               ⋱                         \n",
       " -27.548    -40.0077   -57.8627       -50.5579    -36.4868   -27.0849\n",
       " -26.0043   -28.8614   -38.7183       -53.0553    -39.2341   -30.2162\n",
       " -18.7222   -16.5324   -21.8869       -59.17      -42.9713   -27.9877\n",
       " -10.5352    -2.08544    0.389843  …  -65.4467    -48.4065   -27.3286\n",
       "  -5.8341     9.43124   24.7472       -60.7524    -48.0289   -27.5666\n",
       "   2.80856   23.7325    46.6314       -50.2184    -37.47     -19.479\n",
       "  24.0835    45.4717    69.2723       -40.862     -23.8813    -0.429996\n",
       "  45.7857    70.16      91.6997       -34.934     -10.8876    17.5447\n",
       "  53.9609    79.4897    98.757     …  -35.4559     -6.47573   23.5492\n",
       "  41.4824    72.5746    95.3046       -45.2036    -15.9168    12.2934\n",
       "  23.8156    59.8805    89.4268       -56.3656    -35.5937    -7.86303\n",
       "  14.8692    51.3729    80.3935       -58.9599    -48.1623   -21.399"
      ]
     },
     "execution_count": 45,
     "metadata": {},
     "output_type": "execute_result"
    }
   ],
   "source": [
    "dfs = @showprogress map(1:32) do i\n",
    "    @unpack d,f,f̃ = resimulate(ds,seed=i)\n",
    "    d[:Ix][:,:,:,:], f̃[:Ix][:,:,:,:]\n",
    "end;\n",
    "\n",
    "xs = cat(first.(dfs)..., dims=4)\n",
    "ys = cat(last.(dfs)...,  dims=4)"
   ]
  },
  {
   "cell_type": "code",
   "execution_count": 12,
   "metadata": {},
   "outputs": [
    {
     "data": {
      "text/plain": [
       "loss_J3 (generic function with 1 method)"
      ]
     },
     "execution_count": 12,
     "metadata": {},
     "output_type": "execute_result"
    }
   ],
   "source": [
    "loss_J2(x,d) = Flux.mse(model(x), d);\n",
    "function loss_J3(x, d)\n",
    "    y = FlatMap(model(x), f.metadata)\n",
    "    Δ = ds.M * ds.B * y - FlatMap(d, f.metadata)\n",
    "    sum(unbatch(Δ' * pinv(ds.Cn) * Δ + y' * pinv(ds.Cf̃) * y))\n",
    "end"
   ]
  },
  {
   "cell_type": "code",
   "execution_count": null,
   "metadata": {},
   "outputs": [],
   "source": [
    "opt = ADAM(1e-3)\n",
    "\n",
    "@showprogress for i=1:10\n",
    "    Flux.Optimise.train!(loss_J2, params(wn), [(xs,ys)], opt);\n",
    "end"
   ]
  },
  {
   "cell_type": "code",
   "execution_count": 30,
   "metadata": {},
   "outputs": [
    {
     "data": {
      "image/png": "[encoded data removed]",
      "text/plain": [
       "Figure(PyObject <Figure size 640x480 with 1 Axes>)"
      ]
     },
     "metadata": {},
     "output_type": "display_data"
    },
    {
     "data": {
      "text/plain": [
       "PyObject <matplotlib.legend.Legend object at 0x2b58536597d0>"
      ]
     },
     "execution_count": 30,
     "metadata": {},
     "output_type": "execute_result"
    }
   ],
   "source": [
    "loglog(get_Cℓ(M*ds.d), label=\"data\")\n",
    "loglog(get_Cℓ(M*model(ds.d)), label=\"WienerNet\")\n",
    "loglog(get_Cℓ(M*fwf), label=\"true WF\")\n",
    "legend()"
   ]
  },
  {
   "cell_type": "code",
   "execution_count": 47,
   "metadata": {},
   "outputs": [
    {
     "data": {
      "text/plain": [
       "rand100 (generic function with 1 method)"
      ]
     },
     "execution_count": 47,
     "metadata": {},
     "output_type": "execute_result"
    }
   ],
   "source": [
    "rand128() = Float32.(reshape(rand(128*128), (128,128,1,1)))\n",
    "rand100() = Float32.(reshape(rand(100*100), (100,100,1,1)))"
   ]
  },
  {
   "cell_type": "code",
   "execution_count": 38,
   "metadata": {},
   "outputs": [
    {
     "data": {
      "text/plain": [
       "69711"
      ]
     },
     "execution_count": 38,
     "metadata": {},
     "output_type": "execute_result"
    }
   ],
   "source": [
    "reduce(+, (reduce(*, size(pa)) for pa in params(wn)))"
   ]
  },
  {
   "cell_type": "code",
   "execution_count": 44,
   "metadata": {},
   "outputs": [
    {
     "data": {
      "text/plain": [
       "10-element Array{Float32,1}:\n",
       " 0.0\n",
       " 0.0\n",
       " 0.0\n",
       " 0.0\n",
       " 0.0\n",
       " 0.0\n",
       " 0.0\n",
       " 0.0\n",
       " 0.0\n",
       " 0.0"
      ]
     },
     "execution_count": 44,
     "metadata": {},
     "output_type": "execute_result"
    }
   ],
   "source": [
    "params(wn)[2]"
   ]
  },
  {
   "cell_type": "code",
   "execution_count": null,
   "metadata": {},
   "outputs": [],
   "source": []
  }
 ],
 "metadata": {
  "kernelspec": {
   "display_name": "Julia 1.6.1",
   "language": "julia",
   "name": "julia-1.6"
  },
  "language_info": {
   "file_extension": ".jl",
   "mimetype": "application/julia",
   "name": "julia",
   "version": "1.6.1"
  }
 },
 "nbformat": 4,
 "nbformat_minor": 2
}
