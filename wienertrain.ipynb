{
 "cells": [
  {
   "cell_type": "code",
   "execution_count": 1,
   "metadata": {},
   "outputs": [
    {
     "name": "stderr",
     "output_type": "stream",
     "text": [
      "┌ Warning: The NVIDIA driver on this system only supports up to CUDA 10.2.0.\n",
      "│ For performance reasons, it is recommended to upgrade to a driver that supports CUDA 11.2 or higher.\n",
      "└ @ CUDA /global/home/users/sguns/.julia/packages/CUDA/02Kjq/src/initialization.jl:42\n"
     ]
    },
    {
     "data": {
      "text/plain": [
       "WienerNet (generic function with 1 method)"
      ]
     },
     "execution_count": 1,
     "metadata": {},
     "output_type": "execute_result"
    }
   ],
   "source": [
    "using NBInclude\n",
    "using BSON:@save, @load\n",
    "using Dates: now\n",
    "using Flux, CMBLensing\n",
    "using PyPlot\n",
    "@nbinclude(\"wienercode.ipynb\")"
   ]
  },
  {
   "cell_type": "code",
   "execution_count": 2,
   "metadata": {},
   "outputs": [
    {
     "name": "stdout",
     "output_type": "stream",
     "text": [
      "Loaded mask\n",
      "Loaded data\n",
      "Batched data\n"
     ]
    }
   ],
   "source": [
    "@load \"mask_128.bson\" mask\n",
    "mask = reshape(mask, 128, 128, 1, 1) \n",
    "mask = Flux.gpu(mask)\n",
    "println(\"Loaded mask\")\n",
    "\n",
    "\n",
    "@load \"training_data_nsims1000_CMBLensing.bson\" sims\n",
    "println(\"Loaded data\")\n",
    "batchsize = 8\n",
    "training = []\n",
    "\n",
    "sims = Flux.chunk(sims, length(sims)/batchsize) \n",
    "for s in sims\n",
    "    dfs = map(1:8) do i\n",
    "        Float32.(s[i][1][:Ix][:,:,1,1]), Float32.(s[i][3][:Ix][:,:,1,1])\n",
    "    end\n",
    "    xs = cat(first.(dfs)..., dims=4)\n",
    "    ys = cat(last.(dfs)..., dims=4)\n",
    "    push!(training, (xs, ys))\n",
    "end\n",
    "training = Flux.gpu(training)\n",
    "println(\"Batched data\")"
   ]
  },
  {
   "cell_type": "code",
   "execution_count": 3,
   "metadata": {},
   "outputs": [
    {
     "name": "stdout",
     "output_type": "stream",
     "text": [
      "Defined model\n"
     ]
    }
   ],
   "source": [
    "wn = WienerNet() |> Flux.gpu\n",
    "model(x::Tuple{AbstractArray,AbstractArray}) = wn(x)\n",
    "model(x::AbstractArray) = wn((x, mask))\n",
    "loss_J2(x,d) = Flux.mse(model(x), d);\n",
    "println(\"Defined model\")"
   ]
  },
  {
   "cell_type": "code",
   "execution_count": null,
   "metadata": {},
   "outputs": [
    {
     "name": "stderr",
     "output_type": "stream",
     "text": [
      "┌ Info: Epoch 1\n",
      "└ @ Main /global/home/users/sguns/.julia/packages/Flux/0c9kI/src/optimise/train.jl:135\n",
      "┌ Warning: cuDNN does not support asymmetric padding; defaulting to symmetric choice\n",
      "└ @ NNlibCUDA /global/home/users/sguns/.julia/packages/NNlibCUDA/806f6/src/cudnn/cudnn.jl:10\n"
     ]
    },
    {
     "name": "stdout",
     "output_type": "stream",
     "text": [
      "loss_J2(testx, testy) = 5071.188f0\n",
      "loss_J2(testx, testy) = 1898.1241f0\n",
      "loss_J2(testx, testy) = 1785.6174f0\n",
      "loss_J2(testx, testy) = 1576.6389f0\n",
      "loss_J2(testx, testy) = 1432.3202f0\n",
      "loss_J2(testx, testy) = 1127.3846f0\n",
      "loss_J2(testx, testy) = 768.9429f0\n",
      "loss_J2(testx, testy) = 737.6905f0\n",
      "loss_J2(testx, testy) = 697.72504f0\n"
     ]
    },
    {
     "name": "stderr",
     "output_type": "stream",
     "text": [
      "┌ Info: Epoch 2\n",
      "└ @ Main /global/home/users/sguns/.julia/packages/Flux/0c9kI/src/optimise/train.jl:135\n"
     ]
    },
    {
     "name": "stdout",
     "output_type": "stream",
     "text": [
      "loss_J2(testx, testy) = 519.5831f0\n",
      "loss_J2(testx, testy) = 518.4003f0\n",
      "loss_J2(testx, testy) = 548.07684f0\n",
      "loss_J2(testx, testy) = 581.6485f0\n",
      "loss_J2(testx, testy) = 462.4315f0\n",
      "loss_J2(testx, testy) = 474.18164f0\n"
     ]
    },
    {
     "name": "stderr",
     "output_type": "stream",
     "text": [
      "┌ Info: Epoch 3\n",
      "└ @ Main /global/home/users/sguns/.julia/packages/Flux/0c9kI/src/optimise/train.jl:135\n"
     ]
    },
    {
     "name": "stdout",
     "output_type": "stream",
     "text": [
      "loss_J2(testx, testy) = 470.58698f0\n",
      "loss_J2(testx, testy) = 415.1751f0\n",
      "loss_J2(testx, testy) = 397.18237f0\n",
      "loss_J2(testx, testy) = 426.7444f0\n",
      "loss_J2(testx, testy) = 372.60892f0\n",
      "loss_J2(testx, testy) = 390.0063f0\n",
      "loss_J2(testx, testy) = 322.62747f0\n"
     ]
    },
    {
     "name": "stderr",
     "output_type": "stream",
     "text": [
      "┌ Info: Epoch 4\n",
      "└ @ Main /global/home/users/sguns/.julia/packages/Flux/0c9kI/src/optimise/train.jl:135\n"
     ]
    },
    {
     "name": "stdout",
     "output_type": "stream",
     "text": [
      "loss_J2(testx, testy) = 332.9165f0\n",
      "loss_J2(testx, testy) = 354.25095f0\n",
      "loss_J2(testx, testy) = 331.031f0\n",
      "loss_J2(testx, testy) = 298.08612f0\n",
      "loss_J2(testx, testy) = 273.06552f0\n",
      "loss_J2(testx, testy) = 300.2168f0\n"
     ]
    },
    {
     "name": "stderr",
     "output_type": "stream",
     "text": [
      "┌ Info: Epoch 5\n",
      "└ @ Main /global/home/users/sguns/.julia/packages/Flux/0c9kI/src/optimise/train.jl:135\n"
     ]
    },
    {
     "name": "stdout",
     "output_type": "stream",
     "text": [
      "loss_J2(testx, testy) = 291.40762f0\n",
      "loss_J2(testx, testy) = 253.7258f0\n",
      "loss_J2(testx, testy) = 252.82295f0\n",
      "loss_J2(testx, testy) = 264.59186f0\n",
      "loss_J2(testx, testy) = 224.02197f0\n",
      "loss_J2(testx, testy) = 247.5953f0\n"
     ]
    },
    {
     "name": "stderr",
     "output_type": "stream",
     "text": [
      "┌ Info: Epoch 6\n",
      "└ @ Main /global/home/users/sguns/.julia/packages/Flux/0c9kI/src/optimise/train.jl:135\n"
     ]
    },
    {
     "name": "stdout",
     "output_type": "stream",
     "text": [
      "loss_J2(testx, testy) = 262.1327f0\n",
      "loss_J2(testx, testy) = 232.68451f0\n",
      "loss_J2(testx, testy) = 207.04909f0\n",
      "loss_J2(testx, testy) = 232.16278f0\n",
      "loss_J2(testx, testy) = 220.68256f0\n",
      "loss_J2(testx, testy) = 207.74481f0\n"
     ]
    },
    {
     "name": "stderr",
     "output_type": "stream",
     "text": [
      "┌ Info: Epoch 7\n",
      "└ @ Main /global/home/users/sguns/.julia/packages/Flux/0c9kI/src/optimise/train.jl:135\n"
     ]
    },
    {
     "name": "stdout",
     "output_type": "stream",
     "text": [
      "loss_J2(testx, testy) = 224.6424f0\n",
      "loss_J2(testx, testy) = 201.45197f0\n",
      "loss_J2(testx, testy) = 193.83728f0\n",
      "loss_J2(testx, testy) = 213.9926f0\n",
      "loss_J2(testx, testy) = 222.13705f0\n",
      "loss_J2(testx, testy) = 204.68204f0\n",
      "loss_J2(testx, testy) = 195.34468f0\n"
     ]
    },
    {
     "name": "stderr",
     "output_type": "stream",
     "text": [
      "┌ Info: Epoch 8\n",
      "└ @ Main /global/home/users/sguns/.julia/packages/Flux/0c9kI/src/optimise/train.jl:135\n"
     ]
    },
    {
     "name": "stdout",
     "output_type": "stream",
     "text": [
      "loss_J2(testx, testy) = 189.6658f0\n",
      "loss_J2(testx, testy) = 199.3237f0\n",
      "loss_J2(testx, testy) = 206.06075f0\n",
      "loss_J2(testx, testy) = 208.12163f0\n",
      "loss_J2(testx, testy) = 171.32196f0\n",
      "loss_J2(testx, testy) = 215.27852f0\n"
     ]
    },
    {
     "name": "stderr",
     "output_type": "stream",
     "text": [
      "┌ Info: Epoch 9\n",
      "└ @ Main /global/home/users/sguns/.julia/packages/Flux/0c9kI/src/optimise/train.jl:135\n"
     ]
    },
    {
     "name": "stdout",
     "output_type": "stream",
     "text": [
      "loss_J2(testx, testy) = 177.12119f0\n",
      "loss_J2(testx, testy) = 177.34944f0\n",
      "loss_J2(testx, testy) = 157.52965f0\n",
      "loss_J2(testx, testy) = 186.01273f0\n",
      "loss_J2(testx, testy) = 173.7105f0\n",
      "loss_J2(testx, testy) = 150.87332f0\n"
     ]
    },
    {
     "name": "stderr",
     "output_type": "stream",
     "text": [
      "┌ Info: Epoch 10\n",
      "└ @ Main /global/home/users/sguns/.julia/packages/Flux/0c9kI/src/optimise/train.jl:135\n"
     ]
    },
    {
     "name": "stdout",
     "output_type": "stream",
     "text": [
      "loss_J2(testx, testy) = 198.1005f0\n",
      "loss_J2(testx, testy) = 162.95097f0\n",
      "loss_J2(testx, testy) = 165.87177f0\n",
      "loss_J2(testx, testy) = 164.24863f0\n",
      "loss_J2(testx, testy) = 153.18146f0\n",
      "loss_J2(testx, testy) = 199.29384f0\n"
     ]
    },
    {
     "name": "stderr",
     "output_type": "stream",
     "text": [
      "┌ Info: Epoch 11\n",
      "└ @ Main /global/home/users/sguns/.julia/packages/Flux/0c9kI/src/optimise/train.jl:135\n"
     ]
    },
    {
     "name": "stdout",
     "output_type": "stream",
     "text": [
      "loss_J2(testx, testy) = 147.01888f0\n",
      "loss_J2(testx, testy) = 172.89136f0\n",
      "loss_J2(testx, testy) = 149.74112f0\n",
      "loss_J2(testx, testy) = 136.13669f0\n"
     ]
    }
   ],
   "source": [
    "opt = ADAM(1e-3)\n",
    "\n",
    "testx = training[1][1][:,:,1:1,1:1]\n",
    "testy = training[1][2][:,:,1:1,1:1]\n",
    "\n",
    "evalcb = Flux.throttle(300) do\n",
    "  savem = Flux.cpu(wn)\n",
    "  testloss = loss_J2(testx, testy)\n",
    "  @show(loss_J2(testx, testy))\n",
    "  @save \"weights/J1/J1_model-$(now()).bson\" savem opt testloss\n",
    "end\n",
    "\n",
    "Flux.@epochs 100 Flux.Optimise.train!(loss_J2, Flux.params(wn), training, opt, cb=evalcb);\n"
   ]
  },
  {
   "cell_type": "code",
   "execution_count": null,
   "metadata": {},
   "outputs": [],
   "source": []
  }
 ],
 "metadata": {
  "kernelspec": {
   "display_name": "Julia 1.6.0",
   "language": "julia",
   "name": "julia-1.6"
  },
  "language_info": {
   "file_extension": ".jl",
   "mimetype": "application/julia",
   "name": "julia",
   "version": "1.6.0"
  }
 },
 "nbformat": 4,
 "nbformat_minor": 2
}
